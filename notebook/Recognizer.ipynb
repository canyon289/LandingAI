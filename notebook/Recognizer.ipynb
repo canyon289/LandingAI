{
 "cells": [
  {
   "cell_type": "markdown",
   "metadata": {},
   "source": [
    "# Landing AI + Ravin = :)\n",
    "\n",
    "The above message is pretty clear to me, but let's see if we can train a Neural Net to find that message in random noise"
   ]
  },
  {
   "cell_type": "markdown",
   "metadata": {},
   "source": [
    "## Dataset\n",
    "The input to our neural net will be a set of images that either contain our  important message or a string of random characters. For extra difficulty the random AI will have a higher occurence of :) emojis, + and = characters as well. You will need to install the LandingAI package if following along.\n",
    "\n",
    "### Generate dataset\n",
    "Let's go ahead and generate some images. In the Landing AI package there the image class contains all the code used to generate test and train images\n"
   ]
  },
  {
   "cell_type": "code",
   "execution_count": null,
   "metadata": {},
   "outputs": [
    {
     "name": "stdout",
     "output_type": "stream",
     "text": [
      "The autoreload extension is already loaded. To reload it, use:\n",
      "  %reload_ext autoreload\n",
      "train exists, deleting directory and images and creating new ones\n",
      "test exists, deleting directory and images and creating new ones\n"
     ]
    }
   ],
   "source": [
    "%load_ext autoreload\n",
    "%autoreload 2\n",
    "from landingai import image\n",
    "image.gen_images(train_examples=5000, test_examples=200, delete=True)"
   ]
  },
  {
   "cell_type": "markdown",
   "metadata": {},
   "source": [
    "### Data Load\n",
    "Each image now needs to be loaded and labeled, and the target vector needs to be one hot encoded"
   ]
  },
  {
   "cell_type": "code",
   "execution_count": null,
   "metadata": {},
   "outputs": [
    {
     "name": "stdout",
     "output_type": "stream",
     "text": [
      "The autoreload extension is already loaded. To reload it, use:\n",
      "  %reload_ext autoreload\n"
     ]
    }
   ],
   "source": [
    "from landingai import model_utils\n",
    "x_train, y_train = model_utils.load_data(\"train\")\n",
    "x_test, y_test = model_utils.load_data(\"test\")"
   ]
  },
  {
   "cell_type": "markdown",
   "metadata": {},
   "source": [
    "### One Hot Encode Targets"
   ]
  },
  {
   "cell_type": "code",
   "execution_count": null,
   "metadata": {
    "collapsed": true
   },
   "outputs": [],
   "source": [
    "from keras.utils import to_categorical\n",
    "y_train = to_categorical(y_train)\n",
    "y_test = to_categorical(y_test)"
   ]
  },
  {
   "cell_type": "markdown",
   "metadata": {},
   "source": [
    "### Train Model"
   ]
  },
  {
   "cell_type": "code",
   "execution_count": null,
   "metadata": {
    "collapsed": true
   },
   "outputs": [],
   "source": [
    "from keras.layers import Conv2D, MaxPooling2D, GlobalAveragePooling2D\n",
    "from keras.layers import Dropout, Flatten, Dense, LeakyReLU\n",
    "from keras.models import Sequential\n",
    "\n",
    "model = Sequential()\n",
    "model.add(Conv2D(filters = 8, kernel_size=2, strides=2, padding='same', input_shape=(270,270,1)))\n",
    "model.add(LeakyReLU(alpha =.1))\n",
    "model.add(MaxPooling2D(pool_size=4))\n",
    "\n",
    "model.add(Conv2D(filters = 4, kernel_size=2, strides=1, padding='valid'))\n",
    "model.add(LeakyReLU(alpha =.1))\n",
    "\n",
    "model.add(Flatten())\n",
    "model.add(Dense(2, activation='softmax'))"
   ]
  },
  {
   "cell_type": "code",
   "execution_count": null,
   "metadata": {
    "collapsed": true
   },
   "outputs": [],
   "source": [
    "model.compile(optimizer='rmsprop', loss='categorical_crossentropy', metrics=['accuracy'])"
   ]
  },
  {
   "cell_type": "code",
   "execution_count": null,
   "metadata": {},
   "outputs": [],
   "source": [
    "model.fit(x_train, y_train, validation_data=(x_test, y_test), epochs = 20)"
   ]
  },
  {
   "cell_type": "code",
   "execution_count": null,
   "metadata": {
    "collapsed": true
   },
   "outputs": [],
   "source": [
    "model.save(\"Classifier.hdf5\")"
   ]
  },
  {
   "cell_type": "markdown",
   "metadata": {},
   "source": [
    "# Show random images and display class value"
   ]
  },
  {
   "cell_type": "code",
   "execution_count": null,
   "metadata": {
    "collapsed": true
   },
   "outputs": [],
   "source": [
    "import numpy as np\n",
    "from IPython.core import display\n",
    "\n",
    "def display_image(class_label, img_path):\n",
    "    if class_label == 1:\n",
    "        html = display.HTML('<h1 style=\"color:green;\"> Correct class <h1>')\n",
    "    else:\n",
    "        html = display.HTML('<h1 style=\"color:red;\"> Wrong class <h1>')\n",
    "    \n",
    "    # Convert Image to JPEG for Ipython Notebook\n",
    "    i = PIL.Image.open(img_path)\n",
    "    i.save(\"temp.jpg\")\n",
    "    display.display(html)\n",
    "    display.display(display.Image(\"temp.jpg\", width=270, height=270))"
   ]
  },
  {
   "cell_type": "code",
   "execution_count": null,
   "metadata": {},
   "outputs": [],
   "source": [
    "directory = \"test\"\n",
    "for file in os.listdir(directory)[:5]:\n",
    "    img_path = os.path.join(directory, file)\n",
    "    pred = model.predict(model_utils.load_image(img_path))\n",
    "    class_label = np.argmax(pred)\n",
    "    display_image(class_label, img_path)\n",
    "    input()\n",
    "    \n",
    "    display.clear_output()"
   ]
  },
  {
   "cell_type": "markdown",
   "metadata": {},
   "source": [
    "# Predict the real image"
   ]
  },
  {
   "cell_type": "code",
   "execution_count": null,
   "metadata": {},
   "outputs": [],
   "source": [
    "camera_image_path = os.path.join(\"camera_image\", \"3Dprint.jpg\")\n",
    "camera_image = model_utils.load_camera_image(camera_image_path)\n",
    "pred = model.predict(model_utils.load_image(img_path))\n",
    "print(pred)\n",
    "class_label = np.argmax(pred)\n",
    "display_image(class_label, camera_image_path)\n"
   ]
  }
 ],
 "metadata": {
  "kernelspec": {
   "display_name": "Python 3",
   "language": "python",
   "name": "python3"
  },
  "language_info": {
   "codemirror_mode": {
    "name": "ipython",
    "version": 3
   },
   "file_extension": ".py",
   "mimetype": "text/x-python",
   "name": "python",
   "nbconvert_exporter": "python",
   "pygments_lexer": "ipython3",
   "version": "3.6.3"
  }
 },
 "nbformat": 4,
 "nbformat_minor": 2
}
